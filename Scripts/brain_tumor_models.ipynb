{
  "nbformat": 4,
  "nbformat_minor": 0,
  "metadata": {
    "colab": {
      "provenance": [],
      "authorship_tag": "ABX9TyPltISOuZRGlIQmw1SV682j",
      "include_colab_link": true
    },
    "kernelspec": {
      "name": "python3",
      "display_name": "Python 3"
    },
    "language_info": {
      "name": "python"
    }
  },
  "cells": [
    {
      "cell_type": "markdown",
      "metadata": {
        "id": "view-in-github",
        "colab_type": "text"
      },
      "source": [
        "<a href=\"https://colab.research.google.com/github/awhitehouse1/DS4002-Project-3/blob/main/brain_tumor_models.ipynb\" target=\"_parent\"><img src=\"https://colab.research.google.com/assets/colab-badge.svg\" alt=\"Open In Colab\"/></a>"
      ]
    },
    {
      "cell_type": "code",
      "execution_count": 2,
      "metadata": {
        "id": "LBfo5dFbbEZh"
      },
      "outputs": [],
      "source": [
        "import zipfile\n",
        "with zipfile.ZipFile('brain_tumor_dataset.zip', 'r') as zip_ref:\n",
        "    zip_ref.extractall('brain_tumor_dataset')"
      ]
    },
    {
      "cell_type": "code",
      "source": [
        "!ls brain_tumor_dataset/brain_tumor_dataset/"
      ],
      "metadata": {
        "colab": {
          "base_uri": "https://localhost:8080/"
        },
        "id": "8OTYOi6SgmXh",
        "outputId": "0cc24b2e-5fbb-49a5-ad60-4c626e188479"
      },
      "execution_count": 3,
      "outputs": [
        {
          "output_type": "stream",
          "name": "stdout",
          "text": [
            "no  yes\n"
          ]
        }
      ]
    },
    {
      "cell_type": "code",
      "source": [
        "import os\n",
        "from PIL import Image\n",
        "import matplotlib.pyplot as plt\n",
        "\n",
        "base_dir = '/brain_tumor_dataset'\n",
        "\n",
        "# Example: Load and visualize one image from the 'yes' folder\n",
        "yes_dir = 'brain_tumor_dataset/brain_tumor_dataset/yes'\n",
        "no_dir = 'brain_tumor_dataset/brain_tumor_dataset/no'"
      ],
      "metadata": {
        "id": "uMneEU5VlDbZ"
      },
      "execution_count": 4,
      "outputs": []
    },
    {
      "cell_type": "code",
      "source": [
        "import numpy as np\n",
        "\n",
        "def load_images_from_folder(folder, image_size=(128, 128)):\n",
        "    images = []\n",
        "    for filename in os.listdir(folder):\n",
        "        file_path = os.path.join(folder, filename)\n",
        "        img = Image.open(file_path).resize(image_size).convert('RGB')  # Resize and convert to RGB\n",
        "        images.append(np.array(img) / 255.0)  # Normalize pixel values to [0, 1]\n",
        "    return np.array(images)\n",
        "\n",
        "# Load images from both folders\n",
        "yes_images = load_images_from_folder(yes_dir)\n",
        "no_images = load_images_from_folder(no_dir)\n",
        "\n",
        "print(f\"Loaded {len(yes_images)} 'yes' images and {len(no_images)} 'no' images.\")\n",
        "\n",
        "X = np.concatenate((yes_images, no_images), axis=0)\n",
        "y = np.array([1] * len(yes_images) + [0] * len(no_images))  # Labels: 1 for 'yes', 0 for 'no'\n",
        "\n",
        "print(f\"Combined dataset: {X.shape[0]} images, Labels: {y.shape[0]}\")"
      ],
      "metadata": {
        "colab": {
          "base_uri": "https://localhost:8080/"
        },
        "id": "6rUHsVDPm3A1",
        "outputId": "d8d27230-7df0-4058-a98d-4c9873a486fc"
      },
      "execution_count": 5,
      "outputs": [
        {
          "output_type": "stream",
          "name": "stdout",
          "text": [
            "Loaded 155 'yes' images and 98 'no' images.\n",
            "Combined dataset: 253 images, Labels: 253\n"
          ]
        }
      ]
    },
    {
      "cell_type": "code",
      "source": [
        "from sklearn.model_selection import train_test_split\n",
        "\n",
        "X_train, X_test, y_train, y_test = train_test_split(X, y, test_size=0.2, random_state=42)\n",
        "\n",
        "print(f\"Training set: {X_train.shape[0]} images\")\n",
        "print(f\"Testing set: {X_test.shape[0]} images\")"
      ],
      "metadata": {
        "colab": {
          "base_uri": "https://localhost:8080/"
        },
        "id": "mNeEbV9ZoKNe",
        "outputId": "9dc04067-1e5f-47ad-e539-9f54167a0f00"
      },
      "execution_count": 6,
      "outputs": [
        {
          "output_type": "stream",
          "name": "stdout",
          "text": [
            "Training set: 202 images\n",
            "Testing set: 51 images\n"
          ]
        }
      ]
    },
    {
      "cell_type": "code",
      "source": [
        "from tensorflow.keras.preprocessing.image import ImageDataGenerator\n",
        "# Normalize pixel values to [0, 1] (Feature Scaling)\n",
        "X_train = X_train / 255.0\n",
        "X_test = X_test / 255.0\n",
        "\n",
        "# Define Data Augmentation for Training Data\n",
        "datagen = ImageDataGenerator(\n",
        "    rotation_range=20,         # Rotate images up to 20 degrees\n",
        "    width_shift_range=0.2,     # Shift images horizontally\n",
        "    height_shift_range=0.2,    # Shift images vertically\n",
        "    shear_range=0.2,           # Shear transformations\n",
        "    zoom_range=0.2,            # Random zoom\n",
        "    horizontal_flip=True,      # Randomly flip images horizontally\n",
        "    fill_mode='nearest'        # Fill in missing pixels after transformations\n",
        ")\n",
        "\n",
        "# Apply augmentation to the training data\n",
        "datagen.fit(X_train)  # Precompute augmentation transformations for X_train\n",
        "\n",
        "# Testing generator only normalizes\n",
        "test_datagen = ImageDataGenerator()\n",
        "\n",
        "# Wrap training and testing data for generators\n",
        "train_generator = datagen.flow(X_train, y_train, batch_size=32)\n",
        "test_generator = test_datagen.flow(X_test, y_test, batch_size=32)"
      ],
      "metadata": {
        "id": "Cb2YGW2i0IMy"
      },
      "execution_count": 9,
      "outputs": []
    }
  ]
}
